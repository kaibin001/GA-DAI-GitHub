{
 "cells": [
  {
   "cell_type": "code",
   "execution_count": 3,
   "id": "da09dbcc",
   "metadata": {},
   "outputs": [
    {
     "name": "stderr",
     "output_type": "stream",
     "text": [
      "2024-04-29 15:45:41.834 \n",
      "  \u001b[33m\u001b[1mWarning:\u001b[0m to view this Streamlit app on a browser, run it with the following\n",
      "  command:\n",
      "\n",
      "    streamlit run /opt/anaconda3/lib/python3.11/site-packages/ipykernel_launcher.py [ARGUMENTS]\n"
     ]
    }
   ],
   "source": [
    "import streamlit as st\n",
    "import pandas as pd\n",
    "import numpy as np\n",
    "import pickle\n",
    "import os\n",
    "\n",
    "# Load the model\n",
    "home_directory = os.path.expanduser('~') \n",
    "model_path = os.path.join(home_directory, 'Downloads', 'Capstone','fight_model.pkl')\n",
    "with open(model_path, 'rb') as file:\n",
    "    model = pickle.load(file)\n",
    "\n",
    "# Load fighter names from File 3.csv\n",
    "fighter_data_path = os.path.join(home_directory, 'Downloads', 'Capstone','File 3.csv')\n",
    "fighter_data = pd.read_csv(fighter_data_path)\n",
    "\n",
    "# Creating a list of fighter names\n",
    "fighter_names = fighter_data['Full Name'].unique().tolist()\n",
    "\n",
    "# Streamlit user interface\n",
    "st.title('Fight Prediction App')\n",
    "\n",
    "# Selecting fighters\n",
    "fighter1 = st.selectbox('Choose Fighter 1', options=fighter_names)\n",
    "fighter2 = st.selectbox('Choose Fighter 2', options=[f for f in fighter_names if f != fighter1])\n",
    "\n",
    "# Display fighter stats\n",
    "if st.button('Show Stats'):\n",
    "    if fighter1 in fighter_names and fighter2 in fighter_names:\n",
    "        fighter1_stats = fighter_data[fighter_data['Full Name'] == fighter1]\n",
    "        fighter2_stats = fighter_data[fighter_data['Full Name'] == fighter2]\n",
    "        \n",
    "        st.write(f\"Stats for {fighter1}:\")\n",
    "        st.dataframe(fighter1_stats)\n",
    "        \n",
    "        st.write(f\"Stats for {fighter2}:\")\n",
    "        st.dataframe(fighter2_stats)\n",
    "\n",
    "# Prediction\n",
    "if st.button('Predict Fight Outcome'):\n",
    "    # Assuming you have a function to prepare features from fighter names\n",
    "    # You would need to implement this based on your model's requirements\n",
    "    features = prepare_features(fighter1, fighter2)\n",
    "    prediction = model.predict(np.array([features]))\n",
    "    win_probability = model.predict_proba(np.array([features]))[:, 1]\n",
    "    \n",
    "    if prediction[0] == 1:\n",
    "        st.write(f\"{fighter1} is predicted to win with a probability of {win_probability[0]:.2f}\")\n",
    "    else:\n",
    "        st.write(f\"{fighter2} is predicted to win with a probability of {win_probability[0]:.2f}\")\n",
    "\n",
    "def prepare_features(fighter1, fighter2):\n",
    "    # Dummy function: replace with actual feature preparation logic\n",
    "    return np.zeros((1, 24))  # assuming 24 features, replace with correct number and logic\n",
    "\n"
   ]
  }
 ],
 "metadata": {
  "kernelspec": {
   "display_name": "Python 3 (ipykernel)",
   "language": "python",
   "name": "python3"
  },
  "language_info": {
   "codemirror_mode": {
    "name": "ipython",
    "version": 3
   },
   "file_extension": ".py",
   "mimetype": "text/x-python",
   "name": "python",
   "nbconvert_exporter": "python",
   "pygments_lexer": "ipython3",
   "version": "3.11.7"
  }
 },
 "nbformat": 4,
 "nbformat_minor": 5
}
