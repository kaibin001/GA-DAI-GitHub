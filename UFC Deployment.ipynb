{
 "cells": [
  {
   "cell_type": "markdown",
   "id": "80513dcf",
   "metadata": {},
   "source": [
    "# Deployment"
   ]
  },
  {
   "cell_type": "code",
   "execution_count": 11,
   "id": "9522ffba",
   "metadata": {
    "scrolled": true
   },
   "outputs": [
    {
     "ename": "ValueError",
     "evalue": "node array from the pickle has an incompatible dtype:\n- expected: [('left_child', '<i8'), ('right_child', '<i8'), ('feature', '<i8'), ('threshold', '<f8'), ('impurity', '<f8'), ('n_node_samples', '<i8'), ('weighted_n_node_samples', '<f8')]\n- got     : {'names': ['left_child', 'right_child', 'feature', 'threshold', 'impurity', 'n_node_samples', 'weighted_n_node_samples', 'missing_go_to_left'], 'formats': ['<i8', '<i8', '<i8', '<f8', '<f8', '<i8', '<f8', 'u1'], 'offsets': [0, 8, 16, 24, 32, 40, 48, 56], 'itemsize': 64}",
     "output_type": "error",
     "traceback": [
      "\u001b[0;31m---------------------------------------------------------------------------\u001b[0m",
      "\u001b[0;31mValueError\u001b[0m                                Traceback (most recent call last)",
      "Cell \u001b[0;32mIn[11], line 11\u001b[0m\n\u001b[1;32m      9\u001b[0m model_path \u001b[38;5;241m=\u001b[39m os\u001b[38;5;241m.\u001b[39mpath\u001b[38;5;241m.\u001b[39mjoin(home_directory,\u001b[38;5;124m'\u001b[39m\u001b[38;5;124mDownloads\u001b[39m\u001b[38;5;124m'\u001b[39m, \u001b[38;5;124m'\u001b[39m\u001b[38;5;124mCapstone\u001b[39m\u001b[38;5;124m'\u001b[39m, \u001b[38;5;124m'\u001b[39m\u001b[38;5;124mfight_model.pkl\u001b[39m\u001b[38;5;124m'\u001b[39m)\n\u001b[1;32m     10\u001b[0m \u001b[38;5;28;01mwith\u001b[39;00m \u001b[38;5;28mopen\u001b[39m(model_path, \u001b[38;5;124m'\u001b[39m\u001b[38;5;124mrb\u001b[39m\u001b[38;5;124m'\u001b[39m) \u001b[38;5;28;01mas\u001b[39;00m file:\n\u001b[0;32m---> 11\u001b[0m     model \u001b[38;5;241m=\u001b[39m pickle\u001b[38;5;241m.\u001b[39mload(file)\n\u001b[1;32m     13\u001b[0m \u001b[38;5;66;03m# Load fighter names from File 3.csv\u001b[39;00m\n\u001b[1;32m     14\u001b[0m fighter_data_path \u001b[38;5;241m=\u001b[39m os\u001b[38;5;241m.\u001b[39mpath\u001b[38;5;241m.\u001b[39mjoin(home_directory, \u001b[38;5;124m'\u001b[39m\u001b[38;5;124mDownloads\u001b[39m\u001b[38;5;124m'\u001b[39m, \u001b[38;5;124m'\u001b[39m\u001b[38;5;124mCapstone\u001b[39m\u001b[38;5;124m'\u001b[39m, \u001b[38;5;124m'\u001b[39m\u001b[38;5;124mFile 3.csv\u001b[39m\u001b[38;5;124m'\u001b[39m)\n",
      "File \u001b[0;32msklearn/tree/_tree.pyx:676\u001b[0m, in \u001b[0;36msklearn.tree._tree.Tree.__setstate__\u001b[0;34m()\u001b[0m\n",
      "File \u001b[0;32msklearn/tree/_tree.pyx:1364\u001b[0m, in \u001b[0;36msklearn.tree._tree._check_node_ndarray\u001b[0;34m()\u001b[0m\n",
      "\u001b[0;31mValueError\u001b[0m: node array from the pickle has an incompatible dtype:\n- expected: [('left_child', '<i8'), ('right_child', '<i8'), ('feature', '<i8'), ('threshold', '<f8'), ('impurity', '<f8'), ('n_node_samples', '<i8'), ('weighted_n_node_samples', '<f8')]\n- got     : {'names': ['left_child', 'right_child', 'feature', 'threshold', 'impurity', 'n_node_samples', 'weighted_n_node_samples', 'missing_go_to_left'], 'formats': ['<i8', '<i8', '<i8', '<f8', '<f8', '<i8', '<f8', 'u1'], 'offsets': [0, 8, 16, 24, 32, 40, 48, 56], 'itemsize': 64}"
     ]
    }
   ],
   "source": [
    "import streamlit as st\n",
    "import pandas as pd\n",
    "import numpy as np\n",
    "import pickle\n",
    "import os\n",
    "\n",
    "# Load the model\n",
    "home_directory = os.path.expanduser('~') \n",
    "model_path = os.path.join(home_directory,'Downloads', 'Capstone', 'fight_model.pkl')\n",
    "with open(model_path, 'rb') as file:\n",
    "    model = pickle.load(file)\n",
    "\n",
    "# Load fighter names from File 3.csv\n",
    "fighter_data_path = os.path.join(home_directory, 'Downloads', 'Capstone', 'File 3.csv')\n",
    "fighter_data = pd.read_csv(fighter_data_path)\n",
    "\n",
    "# Creating a list of fighter names\n",
    "fighter_names = fighter_data['Fighter Name'].unique().tolist()\n",
    "\n",
    "# Streamlit user interface\n",
    "st.title('Fight Prediction App')\n",
    "\n",
    "# Selecting fighters\n",
    "fighter1 = st.selectbox('Choose Fighter 1', options=fighter_names)\n",
    "fighter2 = st.selectbox('Choose Fighter 2', options=[f for f in fighter_names if f != fighter1])\n",
    "\n",
    "# Display fighter stats\n",
    "if st.button('Show Stats'):\n",
    "    if fighter1 in fighter_names and fighter2 in fighter_names:\n",
    "        fighter1_stats = fighter_data[fighter_data['Fighter Name'] == fighter1]\n",
    "        fighter2_stats = fighter_data[fighter_data['Fighter Name'] == fighter2]\n",
    "        \n",
    "        st.write(f\"Stats for {fighter1}:\")\n",
    "        st.dataframe(fighter1_stats)\n",
    "        \n",
    "        st.write(f\"Stats for {fighter2}:\")\n",
    "        st.dataframe(fighter2_stats)\n",
    "\n",
    "# Prediction\n",
    "if st.button('Predict Fight Outcome'):\n",
    "    # Assuming you have a function to prepare features from fighter names\n",
    "    # You would need to implement this based on your model's requirements\n",
    "    features = prepare_features(fighter1, fighter2)\n",
    "    prediction = model.predict(np.array([features]))\n",
    "    win_probability = model.predict_proba(np.array([features]))[:, 1]\n",
    "    \n",
    "    if prediction[0] == 1:\n",
    "        st.write(f\"{fighter1} is predicted to win with a probability of {win_probability[0]:.2f}\")\n",
    "    else:\n",
    "        st.write(f\"{fighter2} is predicted to win with a probability of {win_probability[0]:.2f}\")\n",
    "\n",
    "def prepare_features(fighter1, fighter2):\n",
    "    # Dummy function: replace with actual feature preparation logic\n",
    "    return np.zeros((1, 24))  # assuming 24 features, replace with correct number and logic\n",
    "\n"
   ]
  }
 ],
 "metadata": {
  "kernelspec": {
   "display_name": "Python 3 (ipykernel)",
   "language": "python",
   "name": "python3"
  },
  "language_info": {
   "codemirror_mode": {
    "name": "ipython",
    "version": 3
   },
   "file_extension": ".py",
   "mimetype": "text/x-python",
   "name": "python",
   "nbconvert_exporter": "python",
   "pygments_lexer": "ipython3",
   "version": "3.11.7"
  }
 },
 "nbformat": 4,
 "nbformat_minor": 5
}
